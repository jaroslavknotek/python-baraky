{
 "cells": [
  {
   "cell_type": "code",
   "execution_count": 1,
   "id": "a2d0ef41-9678-4e96-8a83-eb3346214985",
   "metadata": {},
   "outputs": [
    {
     "name": "stdout",
     "output_type": "stream",
     "text": [
      "/home/jry/source/jaroslavknotek/python-baraky\n"
     ]
    },
    {
     "name": "stderr",
     "output_type": "stream",
     "text": [
      "/home/jry/source/jaroslavknotek/python-baraky/.venv/lib/python3.12/site-packages/IPython/core/magics/osm.py:417: UserWarning: This is now an optional IPython functionality, setting dhist requires you to install the `pickleshare` library.\n",
      "  self.shell.db['dhist'] = compress_dhist(dhist)[-100:]\n"
     ]
    }
   ],
   "source": [
    "%load_ext autoreload\n",
    "%autoreload 2\n",
    "%cd ../notebooks/.."
   ]
  },
  {
   "cell_type": "code",
   "execution_count": 2,
   "id": "3f493c6b-cd27-4dc4-96b2-2a4f6f2921a4",
   "metadata": {},
   "outputs": [],
   "source": [
    "import baraky.io as io\n",
    "from baraky.client import SrealityEstatesClient\n",
    "\n",
    "query_params = await io.read_json('query_params.json')\n",
    "client = SrealityEstatesClient(query_params)"
   ]
  },
  {
   "cell_type": "code",
   "execution_count": 3,
   "id": "ae6195c1-39c3-48db-bc05-48a71d028fff",
   "metadata": {},
   "outputs": [],
   "source": [
    "from baraky.estate_features import PIDCommuteFeatureEnhancer\n",
    "\n",
    "feature_calculators = {\"pid_commute_time\": PIDCommuteFeatureEnhancer()}"
   ]
  },
  {
   "cell_type": "code",
   "execution_count": 4,
   "id": "542c00a9-b78e-4635-9142-81d5e8dfa5ba",
   "metadata": {},
   "outputs": [],
   "source": [
    "import asyncio\n",
    "estates =  await client.read_all()"
   ]
  },
  {
   "cell_type": "code",
   "execution_count": 5,
   "id": "7ef95125-3718-454c-ba4b-6e195affc29b",
   "metadata": {},
   "outputs": [
    {
     "data": {
      "text/plain": [
       "2543"
      ]
     },
     "execution_count": 5,
     "metadata": {},
     "output_type": "execute_result"
    }
   ],
   "source": [
    "len(estates)"
   ]
  },
  {
   "cell_type": "code",
   "execution_count": 7,
   "id": "c328c80c-0a40-40ed-bc22-618dfcf1c420",
   "metadata": {},
   "outputs": [
    {
     "name": "stderr",
     "output_type": "stream",
     "text": [
      "/home/jry/source/jaroslavknotek/python-baraky/.venv/lib/python3.12/site-packages/tqdm/auto.py:21: TqdmWarning: IProgress not found. Please update jupyter and ipywidgets. See https://ipywidgets.readthedocs.io/en/stable/user_install.html\n",
      "  from .autonotebook import tqdm as notebook_tqdm\n",
      "100%|█████████████████████████████████████████████████████████████████████████████████████████████████████████████████████████████████████████████████████████████████████████| 2543/2543 [1:56:56<00:00,  2.76s/it]\n"
     ]
    }
   ],
   "source": [
    "from tqdm.auto import tqdm\n",
    "for name, calculator in feature_calculators.items():\n",
    "    for estate in tqdm(estates):\n",
    "        await asyncio.sleep(.1)\n",
    "        feature_data = await calculator.calculate(estate)\n",
    "        estate.features[name] = feature_data"
   ]
  },
  {
   "cell_type": "code",
   "execution_count": 8,
   "id": "fe0e9b6b-0b17-4ce0-b31d-cde7813f15aa",
   "metadata": {},
   "outputs": [
    {
     "data": {
      "text/plain": [
       "EstateOverview(link='https://www.sreality.cz/detail/prodej/dum/rodinny/habartov-kluc-tylova/1700241996', price=5998000, id='1700241996', gps=(50.19083, 12.560943), features={'commute_time': PIDCommuteFeature(time_minutes=153, transfers_count=1, from_station='Karlovy Vary,terminál', to_station='Smíchovské nádraží', gps_stop_distance=0.30598082403967786)})"
      ]
     },
     "execution_count": 8,
     "metadata": {},
     "output_type": "execute_result"
    }
   ],
   "source": [
    "estates[0]"
   ]
  },
  {
   "cell_type": "code",
   "execution_count": 17,
   "id": "e62f93c9-cb45-4852-9cca-6fe85e4ef18c",
   "metadata": {},
   "outputs": [
    {
     "data": {
      "text/plain": [
       "723"
      ]
     },
     "execution_count": 17,
     "metadata": {},
     "output_type": "execute_result"
    }
   ],
   "source": [
    "invalid = [e for e in estates if e.features[\"commute_time\"].time_minutes is None]\n",
    "len(invalid)"
   ]
  },
  {
   "cell_type": "code",
   "execution_count": 26,
   "id": "63a9ad8c-b90d-4742-a94f-bf025181ac41",
   "metadata": {},
   "outputs": [
    {
     "name": "stdout",
     "output_type": "stream",
     "text": [
      "28\n"
     ]
    }
   ],
   "source": [
    "from baraky.models import EstateOverview\n",
    "\n",
    "def _filter_close_to_prague(\n",
    "    estate_overview: EstateOverview, commute_time: PIDCommuteFeatureEnhancer\n",
    "):\n",
    "    if commute_time.time_minutes is None:\n",
    "        return False\n",
    "    is_close = commute_time.time_minutes < 60\n",
    "    max_1_transfer = commute_time.transfers_count <=1\n",
    "    return max_1_transfer and is_close and estate_overview.price < 10_000_000 \n",
    "\n",
    "def _filter(estate_overview):\n",
    "    commute_time = estate_overview.features.get(\"commute_time\")\n",
    "    return _filter_close_to_prague(estate_overview,commute_time)\n",
    "\n",
    "near = list(filter(_filter,estates))\n",
    "print(len(near))"
   ]
  },
  {
   "cell_type": "code",
   "execution_count": 133,
   "id": "3c1220f3-61ea-4eef-9d8a-b92fd5df5438",
   "metadata": {},
   "outputs": [
    {
     "data": {
      "text/plain": [
       "['3395958092',\n",
       " '3469305676',\n",
       " '3008143948',\n",
       " '3544999244',\n",
       " '4004607308',\n",
       " '2940601676',\n",
       " '3281425740',\n",
       " '1762252108',\n",
       " '4020835660',\n",
       " '2542182988',\n",
       " '1521984076',\n",
       " '1243903308',\n",
       " '2039309644',\n",
       " '1431197004',\n",
       " '3269833292',\n",
       " '1222488652',\n",
       " '2430362956',\n",
       " '2282271308',\n",
       " '3339235916',\n",
       " '915031372',\n",
       " '3314902348',\n",
       " '4110206284',\n",
       " '1949328716',\n",
       " '71791948',\n",
       " '4281120076',\n",
       " '4228871244',\n",
       " '3149792332',\n",
       " '1806173260']"
      ]
     },
     "execution_count": 133,
     "metadata": {},
     "output_type": "execute_result"
    }
   ],
   "source": [
    "ids"
   ]
  },
  {
   "cell_type": "code",
   "execution_count": 134,
   "id": "50181380-1286-4c24-bd67-249780ff18f5",
   "metadata": {},
   "outputs": [],
   "source": [
    "from baraky.storages import MinioStorage\n",
    "\n",
    "from minio.deleteobjects import DeleteObject\n",
    "minio_storage = MinioStorage()\n",
    "\n",
    "ids = [e.id for e in near]\n",
    "delete_objs = [DeleteObject(f\"estate/house/{id}.json\") for id in ids]\n",
    "errors = minio_storage.client.remove_objects(\n",
    "    \"estates\",\n",
    "    delete_objs\n",
    ")\n",
    "\n",
    "for e in errors:\n",
    "    print(e)\n",
    "#minio_storage.client.\n"
   ]
  },
  {
   "cell_type": "code",
   "execution_count": 29,
   "id": "7741fe5b-2ba2-413d-bc09-677e69a06023",
   "metadata": {},
   "outputs": [
    {
     "data": {
      "text/plain": [
       "(array([2., 2., 1., 4., 0., 6., 3., 4., 2., 4.]),\n",
       " array([4990000., 5490000., 5990000., 6490000., 6990000., 7490000.,\n",
       "        7990000., 8490000., 8990000., 9490000., 9990000.]),\n",
       " <BarContainer object of 10 artists>)"
      ]
     },
     "execution_count": 29,
     "metadata": {},
     "output_type": "execute_result"
    },
    {
     "data": {
      "image/png": "[encoded data removed]",
      "text/plain": [
       "<Figure size 640x480 with 1 Axes>"
      ]
     },
     "metadata": {},
     "output_type": "display_data"
    }
   ],
   "source": [
    "import matplotlib.pyplot as plt\n",
    "prices = [e.price for e in near]\n",
    "plt.hist(prices)"
   ]
  },
  {
   "cell_type": "code",
   "execution_count": 31,
   "id": "f4dbe6ff-4efc-4d81-a8cd-a042c52ef8fa",
   "metadata": {},
   "outputs": [
    {
     "data": {
      "text/plain": [
       "(array([1., 1., 1., 0., 1., 4., 6., 4., 2., 8.]),\n",
       " array([18. , 22.1, 26.2, 30.3, 34.4, 38.5, 42.6, 46.7, 50.8, 54.9, 59. ]),\n",
       " <BarContainer object of 10 artists>)"
      ]
     },
     "execution_count": 31,
     "metadata": {},
     "output_type": "execute_result"
    },
    {
     "data": {
      "image/png": "[encoded data removed]",
      "text/plain": [
       "<Figure size 640x480 with 1 Axes>"
      ]
     },
     "metadata": {},
     "output_type": "display_data"
    }
   ],
   "source": [
    "minutes = [e.features['commute_time'].time_minutes for e in near]\n",
    "plt.hist(minutes)"
   ]
  },
  {
   "cell_type": "code",
   "execution_count": null,
   "id": "67ad5bf1-d50d-4949-87d4-5c2354e3aadd",
   "metadata": {},
   "outputs": [],
   "source": [
    "import pandas as pd\n",
    "pd.set_option('max_colwidth', None)\n",
    "\n",
    "df = pd.DataFrame([n.dict() for n in near])\n",
    "\n",
    "list(df['gps'])"
   ]
  },
  {
   "cell_type": "code",
   "execution_count": 39,
   "id": "c05d2fd7-e7ce-4595-8c8c-e71faf77ed97",
   "metadata": {},
   "outputs": [
    {
     "data": {
      "text/plain": [
       "EstateOverview(link='https://www.sreality.cz/detail/prodej/dum/rodinny/klucov-klucov-/3395958092', price=7499000, id='3395958092', gps=(50.094635, 14.908324), features={'pid_commute_time': PIDCommuteFeature(time_minutes=57, transfers_count=1, from_station='Klučov,U mlýna', to_station='Smíchovské nádraží', gps_stop_distance=0.0029290124615650747)})"
      ]
     },
     "execution_count": 39,
     "metadata": {},
     "output_type": "execute_result"
    }
   ],
   "source": [
    "model"
   ]
  },
  {
   "cell_type": "code",
   "execution_count": 41,
   "id": "fa5c73a5-3048-47ee-a1f5-b40dc440fb8c",
   "metadata": {},
   "outputs": [],
   "source": [
    "model = EstateQueueMessage.map_from_estate_overview(near[0])"
   ]
  },
  {
   "cell_type": "code",
   "execution_count": 118,
   "id": "f0b860ed-493f-4030-b862-753f09588e79",
   "metadata": {},
   "outputs": [],
   "source": [
    "from baraky.models import EstateQueueMessage"
   ]
  },
  {
   "cell_type": "code",
   "execution_count": 111,
   "id": "e8b7b8b7-563d-4338-90b6-eb5b680d084e",
   "metadata": {},
   "outputs": [],
   "source": [
    "import baraky.queue"
   ]
  },
  {
   "cell_type": "code",
   "execution_count": 120,
   "id": "a9f967ed-aa91-4e41-be7e-bba375868b3e",
   "metadata": {},
   "outputs": [],
   "source": [
    "queue.put(near[0])"
   ]
  },
  {
   "cell_type": "code",
   "execution_count": null,
   "id": "8b2de5f7-e36a-400b-8795-2f3b45ea8291",
   "metadata": {},
   "outputs": [
    {
     "name": "stdout",
     "output_type": "stream",
     "text": [
      "link='https://www.sreality.cz/detail/prodej/dum/rodinny/trnova-trnova-/2940601676' price=9990000 id='2940601676' pid_commute_time_min=25 transfers_count=1 station_nearby='Trnová (PZ)'\n",
      "link='https://www.sreality.cz/detail/prodej/dum/rodinny/velky-chlumec--/2542182988' price=6700000 id='2542182988' pid_commute_time_min=56 transfers_count=1 station_nearby='Velký Chlumec,II'\n",
      "link='https://www.sreality.cz/detail/prodej/dum/rodinny/klucov-klucov-/3395958092' price=7499000 id='3395958092' pid_commute_time_min=57 transfers_count=1 station_nearby='Klučov,U mlýna'\n",
      "link='https://www.sreality.cz/detail/prodej/dum/rodinny/jiloviste--/4004607308' price=9490000 id='4004607308' pid_commute_time_min=18 transfers_count=0 station_nearby='Jíloviště,Rozcestí Trnová'\n",
      "link='https://www.sreality.cz/detail/prodej/dum/rodinny/daleke-dusniky-druhlice-/2039309644' price=9950000 id='2039309644' pid_commute_time_min=55 transfers_count=1 station_nearby='Daleké Dušníky,Druhlice'\n",
      "link='https://www.sreality.cz/detail/prodej/dum/rodinny/novy-knin-kozi-hory-/915031372' price=6490000 id='915031372' pid_commute_time_min=52 transfers_count=1 station_nearby='Nový Knín,Kozí Hory'\n",
      "link='https://www.sreality.cz/detail/prodej/dum/rodinny/cisovice-cisovice-/3544999244' price=8900000 id='3544999244' pid_commute_time_min=41 transfers_count=1 station_nearby='Čisovice,Pod Horou'\n",
      "link='https://www.sreality.cz/detail/prodej/dum/rodinny/chrastice-chrasticky-/2430362956' price=5900000 id='2430362956' pid_commute_time_min=56 transfers_count=0 station_nearby='Chraštice,Chraštičky'\n",
      "link='https://www.sreality.cz/detail/prodej/dum/rodinny/novy-knin-novy-knin-na-smichove/3269833292' price=5100000 id='3269833292' pid_commute_time_min=49 transfers_count=1 station_nearby='Nový Knín,Starý Knín Na Vyšehradě'\n",
      "link='https://www.sreality.cz/detail/prodej/dum/rodinny/ptice--hlavni/1806173260' price=8350000 id='1806173260' pid_commute_time_min=43 transfers_count=1 station_nearby='Ptice,křiž.'\n",
      "link='https://www.sreality.cz/detail/prodej/dum/rodinny/bojanovice-bojanovice-/71791948' price=6890000 id='71791948' pid_commute_time_min=45 transfers_count=0 station_nearby='Bojanovice,Rest.'\n",
      "link='https://www.sreality.cz/detail/prodej/dum/rodinny/jilove-u-prahy--prazska/3281425740' price=8500000 id='3281425740' pid_commute_time_min=58 transfers_count=1 station_nearby='Jílové u Prahy,Rozc.Radlík'\n",
      "link='https://www.sreality.cz/detail/prodej/dum/rodinny/cernolice--ke-krizi/3469305676' price=6340000 id='3469305676' pid_commute_time_min=37 transfers_count=1 station_nearby='Černolice,Nový Dvůr'\n",
      "link='https://www.sreality.cz/detail/prodej/dum/rodinny/skuhrov-drahlovice-/2282271308' price=7490000 id='2282271308' pid_commute_time_min=46 transfers_count=1 station_nearby='Skuhrov,Drahlovice (BE)'\n",
      "link='https://www.sreality.cz/detail/prodej/dum/rodinny/zdice--/3314902348' price=7683300 id='3314902348' pid_commute_time_min=59 transfers_count=1 station_nearby='Zdice,nám.'\n",
      "link='https://www.sreality.cz/detail/prodej/dum/rodinny/mnisek-pod-brdy--/4281120076' price=7900000 id='4281120076' pid_commute_time_min=29 transfers_count=0 station_nearby='Mníšek p.Brdy,Náměstí'\n",
      "link='https://www.sreality.cz/detail/prodej/dum/rodinny/jilove-u-prahy-radlik-prazska/1949328716' price=9130000 id='1949328716' pid_commute_time_min=58 transfers_count=1 station_nearby='Jílové u Prahy,Rozc.Radlík'\n",
      "link='https://www.sreality.cz/detail/prodej/dum/rodinny/ruda-ruda-mlynska/1222488652' price=6900000 id='1222488652' pid_commute_time_min=49 transfers_count=1 station_nearby='Ruda,u rybníka'\n",
      "link='https://www.sreality.cz/detail/prodej/dum/rodinny/stechovice-masecin-/4228871244' price=5890000 id='4228871244' pid_commute_time_min=47 transfers_count=0 station_nearby='Štěchovice,Masečín'\n",
      "link='https://www.sreality.cz/detail/prodej/dum/rodinny/voznice-voznice-/4110206284' price=7700000 id='4110206284' pid_commute_time_min=42 transfers_count=1 station_nearby='Voznice'\n",
      "link='https://www.sreality.cz/detail/prodej/dum/rodinny/vinarice-vinarice-/3339235916' price=8400000 id='3339235916' pid_commute_time_min=58 transfers_count=1 station_nearby='Vinařice (BE)'\n",
      "link='https://www.sreality.cz/detail/prodej/dum/rodinny/nove-straseci-nove-straseci-polni/1521984076' price=8000000 id='1521984076' pid_commute_time_min=54 transfers_count=1 station_nearby='Nové Strašecí,Karlovarská'\n",
      "link='https://www.sreality.cz/detail/prodej/dum/rodinny/cisovice--/1243903308' price=4990000 id='1243903308' pid_commute_time_min=41 transfers_count=1 station_nearby='Čisovice,Pod Horou'\n",
      "link='https://www.sreality.cz/detail/prodej/dum/rodinny/praha-ujezd-nad-lesy-sulovicka/3149792332' price=8500000 id='3149792332' pid_commute_time_min=47 transfers_count=1 station_nearby='Zbyslavská'\n",
      "link='https://www.sreality.cz/detail/prodej/dum/rodinny/mnichovice-mnichovice-nadrazni/4020835660' price=9990000 id='4020835660' pid_commute_time_min=43 transfers_count=1 station_nearby='Mnichovice'\n",
      "link='https://www.sreality.cz/detail/prodej/dum/rodinny/cisovice-bojov-/1431197004' price=8490000 id='1431197004' pid_commute_time_min=45 transfers_count=1 station_nearby='Čisovice,Bojov'\n",
      "link='https://www.sreality.cz/detail/prodej/dum/rodinny/jirny-jirny-samota/3008143948' price=7490000 id='3008143948' pid_commute_time_min=42 transfers_count=1 station_nearby='Mstětice'\n",
      "link='https://www.sreality.cz/detail/prodej/dum/rodinny/stochov-stochov-karlovarska/1762252108' price=8990000 id='1762252108' pid_commute_time_min=43 transfers_count=1 station_nearby='Stochov,Slovanka I'\n"
     ]
    }
   ],
   "source": [
    "from pydantic import ValidationError\n",
    "from baraky.queue import RabbitQueueConsumer\n",
    "from baraky.models import EstateQueueMessage\n",
    "\n",
    "def callback(ch, method, properties, body):\n",
    "    try:\n",
    "        model = EstateQueueMessage.model_validate_json(body)\n",
    "    except ValidationError:\n",
    "        logging.exception(\"Error validating message %s\",body)\n",
    "        return\n",
    "\n",
    "    print(model)\n",
    "\n",
    "consumer = RabbitQueueConsumer('estates_hits')\n",
    "consumer.listen(callback)"
   ]
  },
  {
   "cell_type": "code",
   "execution_count": null,
   "id": "f5cdb040-a51d-4c79-b0e9-9cc5d7d5da50",
   "metadata": {},
   "outputs": [],
   "source": []
  }
 ],
 "metadata": {
  "kernelspec": {
   "display_name": "baraky",
   "language": "python",
   "name": "baraky"
  },
  "language_info": {
   "codemirror_mode": {
    "name": "ipython",
    "version": 3
   },
   "file_extension": ".py",
   "mimetype": "text/x-python",
   "name": "python",
   "nbconvert_exporter": "python",
   "pygments_lexer": "ipython3",
   "version": "3.12.4"
  }
 },
 "nbformat": 4,
 "nbformat_minor": 5
}
