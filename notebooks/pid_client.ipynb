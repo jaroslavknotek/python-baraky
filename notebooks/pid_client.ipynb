{
 "cells": [
  {
   "cell_type": "code",
   "execution_count": 1,
   "id": "7d5f9e27-0ef7-497b-b7b2-b003d5c83553",
   "metadata": {},
   "outputs": [
    {
     "name": "stdout",
     "output_type": "stream",
     "text": [
      "/home/jry/source/jaroslavknotek/python-baraky\n"
     ]
    },
    {
     "name": "stderr",
     "output_type": "stream",
     "text": [
      "/home/jry/source/jaroslavknotek/python-baraky/.venv/lib/python3.12/site-packages/IPython/core/magics/osm.py:417: UserWarning: This is now an optional IPython functionality, setting dhist requires you to install the `pickleshare` library.\n",
      "  self.shell.db['dhist'] = compress_dhist(dhist)[-100:]\n"
     ]
    }
   ],
   "source": [
    "%load_ext autoreload\n",
    "%autoreload 2\n",
    "%cd ../notebooks/.."
   ]
  },
  {
   "cell_type": "code",
   "execution_count": 3,
   "id": "c600397f-f790-4e3b-aa7a-1b3a6b08c599",
   "metadata": {},
   "outputs": [
    {
     "name": "stderr",
     "output_type": "stream",
     "text": [
      "Failed to get https://pid.cz/wp-admin/admin-ajax.php?action=crwsSearch&stop_over=&time=08%3A00&direct=&maxtransfers=v%C3%BDchoz%C3%AD&transports%5B%5D=metro&transports%5B%5D=vlak&transports%5B%5D=tram&transports%5B%5D=bus&transports%5B%5D=trolley&transports%5B%5D=privoz&transports%5B%5D=lan&speed=high&ajax=true&stop_from=B%C5%99ezov%C3%A1-Ole%C5%A1ko%2COle%C5%A1ko&stop_to=Sm%C3%ADchovsk%C3%A9%20n%C3%A1dra%C5%BE%C3%AD&date=20.08.2024 with status 503 error 503, message='Service Temporarily Unavailable', url=URL('https://pid.cz/wp-admin/admin-ajax.php?action=crwsSearch&stop_over=&time=08:00&direct=&maxtransfers=v%C3%BDchoz%C3%AD&transports%5B%5D=metro&transports%5B%5D=vlak&transports%5B%5D=tram&transports%5B%5D=bus&transports%5B%5D=trolley&transports%5B%5D=privoz&transports%5B%5D=lan&speed=high&ajax=true&stop_from=B%C5%99ezov%C3%A1-Ole%C5%A1ko,Ole%C5%A1ko&stop_to=Sm%C3%ADchovsk%C3%A9%20n%C3%A1dra%C5%BE%C3%AD&date=20.08.2024')\n",
      "Failed to get https://pid.cz/wp-admin/admin-ajax.php?action=crwsSearch&stop_over=&time=08%3A00&direct=&maxtransfers=v%C3%BDchoz%C3%AD&transports%5B%5D=metro&transports%5B%5D=vlak&transports%5B%5D=tram&transports%5B%5D=bus&transports%5B%5D=trolley&transports%5B%5D=privoz&transports%5B%5D=lan&speed=high&ajax=true&stop_from=Trnov%C3%A1%20%28PZ%29&stop_to=Sm%C3%ADchovsk%C3%A9%20n%C3%A1dra%C5%BE%C3%AD&date=20.08.2024 with status 503 error 503, message='Service Temporarily Unavailable', url=URL('https://pid.cz/wp-admin/admin-ajax.php?action=crwsSearch&stop_over=&time=08:00&direct=&maxtransfers=v%C3%BDchoz%C3%AD&transports%5B%5D=metro&transports%5B%5D=vlak&transports%5B%5D=tram&transports%5B%5D=bus&transports%5B%5D=trolley&transports%5B%5D=privoz&transports%5B%5D=lan&speed=high&ajax=true&stop_from=Trnov%C3%A1%20(PZ)&stop_to=Sm%C3%ADchovsk%C3%A9%20n%C3%A1dra%C5%BE%C3%AD&date=20.08.2024')\n",
      "Failed to get https://pid.cz/wp-admin/admin-ajax.php?action=crwsSearch&stop_over=&time=08%3A00&direct=&maxtransfers=v%C3%BDchoz%C3%AD&transports%5B%5D=metro&transports%5B%5D=vlak&transports%5B%5D=tram&transports%5B%5D=bus&transports%5B%5D=trolley&transports%5B%5D=privoz&transports%5B%5D=lan&speed=high&ajax=true&stop_from=J%C3%ADlov%C3%A9%20u%20Prahy%2CRozc.Radl%C3%ADk&stop_to=Sm%C3%ADchovsk%C3%A9%20n%C3%A1dra%C5%BE%C3%AD&date=20.08.2024 with status 503 error 503, message='Service Temporarily Unavailable', url=URL('https://pid.cz/wp-admin/admin-ajax.php?action=crwsSearch&stop_over=&time=08:00&direct=&maxtransfers=v%C3%BDchoz%C3%AD&transports%5B%5D=metro&transports%5B%5D=vlak&transports%5B%5D=tram&transports%5B%5D=bus&transports%5B%5D=trolley&transports%5B%5D=privoz&transports%5B%5D=lan&speed=high&ajax=true&stop_from=J%C3%ADlov%C3%A9%20u%20Prahy,Rozc.Radl%C3%ADk&stop_to=Sm%C3%ADchovsk%C3%A9%20n%C3%A1dra%C5%BE%C3%AD&date=20.08.2024')\n",
      "Failed to get https://pid.cz/wp-admin/admin-ajax.php?action=crwsSearch&stop_over=&time=08%3A00&direct=&maxtransfers=v%C3%BDchoz%C3%AD&transports%5B%5D=metro&transports%5B%5D=vlak&transports%5B%5D=tram&transports%5B%5D=bus&transports%5B%5D=trolley&transports%5B%5D=privoz&transports%5B%5D=lan&speed=high&ajax=true&stop_from=J%C3%ADlov%C3%A9%20u%20Prahy%2CPra%C5%BEsk%C3%A1&stop_to=Sm%C3%ADchovsk%C3%A9%20n%C3%A1dra%C5%BE%C3%AD&date=20.08.2024 with status 503 error 503, message='Service Temporarily Unavailable', url=URL('https://pid.cz/wp-admin/admin-ajax.php?action=crwsSearch&stop_over=&time=08:00&direct=&maxtransfers=v%C3%BDchoz%C3%AD&transports%5B%5D=metro&transports%5B%5D=vlak&transports%5B%5D=tram&transports%5B%5D=bus&transports%5B%5D=trolley&transports%5B%5D=privoz&transports%5B%5D=lan&speed=high&ajax=true&stop_from=J%C3%ADlov%C3%A9%20u%20Prahy,Pra%C5%BEsk%C3%A1&stop_to=Sm%C3%ADchovsk%C3%A9%20n%C3%A1dra%C5%BE%C3%AD&date=20.08.2024')\n",
      "Failed to get https://pid.cz/wp-admin/admin-ajax.php?action=crwsSearch&stop_over=&time=08%3A00&direct=&maxtransfers=v%C3%BDchoz%C3%AD&transports%5B%5D=metro&transports%5B%5D=vlak&transports%5B%5D=tram&transports%5B%5D=bus&transports%5B%5D=trolley&transports%5B%5D=privoz&transports%5B%5D=lan&speed=high&ajax=true&stop_from=Hradi%C5%A1tko%2CPikovice%2CPod%20Medn%C3%ADkem%20%28PZ%29&stop_to=Sm%C3%ADchovsk%C3%A9%20n%C3%A1dra%C5%BE%C3%AD&date=20.08.2024 with status 503 error 503, message='Service Temporarily Unavailable', url=URL('https://pid.cz/wp-admin/admin-ajax.php?action=crwsSearch&stop_over=&time=08:00&direct=&maxtransfers=v%C3%BDchoz%C3%AD&transports%5B%5D=metro&transports%5B%5D=vlak&transports%5B%5D=tram&transports%5B%5D=bus&transports%5B%5D=trolley&transports%5B%5D=privoz&transports%5B%5D=lan&speed=high&ajax=true&stop_from=Hradi%C5%A1tko,Pikovice,Pod%20Medn%C3%ADkem%20(PZ)&stop_to=Sm%C3%ADchovsk%C3%A9%20n%C3%A1dra%C5%BE%C3%AD&date=20.08.2024')\n",
      "Failed to get https://pid.cz/wp-admin/admin-ajax.php?action=crwsSearch&stop_over=&time=08%3A00&direct=&maxtransfers=v%C3%BDchoz%C3%AD&transports%5B%5D=metro&transports%5B%5D=vlak&transports%5B%5D=tram&transports%5B%5D=bus&transports%5B%5D=trolley&transports%5B%5D=privoz&transports%5B%5D=lan&speed=high&ajax=true&stop_from=Libe%C5%99&stop_to=Sm%C3%ADchovsk%C3%A9%20n%C3%A1dra%C5%BE%C3%AD&date=20.08.2024 with status 503 error 503, message='Service Temporarily Unavailable', url=URL('https://pid.cz/wp-admin/admin-ajax.php?action=crwsSearch&stop_over=&time=08:00&direct=&maxtransfers=v%C3%BDchoz%C3%AD&transports%5B%5D=metro&transports%5B%5D=vlak&transports%5B%5D=tram&transports%5B%5D=bus&transports%5B%5D=trolley&transports%5B%5D=privoz&transports%5B%5D=lan&speed=high&ajax=true&stop_from=Libe%C5%99&stop_to=Sm%C3%ADchovsk%C3%A9%20n%C3%A1dra%C5%BE%C3%AD&date=20.08.2024')\n",
      "Failed to get https://pid.cz/wp-admin/admin-ajax.php?action=crwsSearch&stop_over=&time=08%3A00&direct=&maxtransfers=v%C3%BDchoz%C3%AD&transports%5B%5D=metro&transports%5B%5D=vlak&transports%5B%5D=tram&transports%5B%5D=bus&transports%5B%5D=trolley&transports%5B%5D=privoz&transports%5B%5D=lan&speed=high&ajax=true&stop_from=Okrouhlo&stop_to=Sm%C3%ADchovsk%C3%A9%20n%C3%A1dra%C5%BE%C3%AD&date=20.08.2024 with status 503 error 503, message='Service Temporarily Unavailable', url=URL('https://pid.cz/wp-admin/admin-ajax.php?action=crwsSearch&stop_over=&time=08:00&direct=&maxtransfers=v%C3%BDchoz%C3%AD&transports%5B%5D=metro&transports%5B%5D=vlak&transports%5B%5D=tram&transports%5B%5D=bus&transports%5B%5D=trolley&transports%5B%5D=privoz&transports%5B%5D=lan&speed=high&ajax=true&stop_from=Okrouhlo&stop_to=Sm%C3%ADchovsk%C3%A9%20n%C3%A1dra%C5%BE%C3%AD&date=20.08.2024')\n",
      "Failed to get https://pid.cz/wp-admin/admin-ajax.php?action=crwsSearch&stop_over=&time=08%3A00&direct=&maxtransfers=v%C3%BDchoz%C3%AD&transports%5B%5D=metro&transports%5B%5D=vlak&transports%5B%5D=tram&transports%5B%5D=bus&transports%5B%5D=trolley&transports%5B%5D=privoz&transports%5B%5D=lan&speed=high&ajax=true&stop_from=J%C3%ADlov%C3%A9%20u%20Prahy%2CRozc.Radl%C3%ADk&stop_to=Sm%C3%ADchovsk%C3%A9%20n%C3%A1dra%C5%BE%C3%AD&date=20.08.2024 with status 503 error 503, message='Service Temporarily Unavailable', url=URL('https://pid.cz/wp-admin/admin-ajax.php?action=crwsSearch&stop_over=&time=08:00&direct=&maxtransfers=v%C3%BDchoz%C3%AD&transports%5B%5D=metro&transports%5B%5D=vlak&transports%5B%5D=tram&transports%5B%5D=bus&transports%5B%5D=trolley&transports%5B%5D=privoz&transports%5B%5D=lan&speed=high&ajax=true&stop_from=J%C3%ADlov%C3%A9%20u%20Prahy,Rozc.Radl%C3%ADk&stop_to=Sm%C3%ADchovsk%C3%A9%20n%C3%A1dra%C5%BE%C3%AD&date=20.08.2024')\n"
     ]
    },
    {
     "name": "stdout",
     "output_type": "stream",
     "text": [
      "time_minutes=58 transfers_count=3 from_station='Březová-Oleško,Oleško' to_station='Smíchovské nádraží' gps_stop_distance=0.0014972971114672032\n",
      "time_minutes=None transfers_count=None from_station='Březová-Oleško,Oleško' to_station='Smíchovské nádraží' gps_stop_distance=0.0014972971114672032\n",
      "time_minutes=None transfers_count=None from_station='Trnová (PZ)' to_station='Smíchovské nádraží' gps_stop_distance=0.0009651082892627894\n",
      "time_minutes=None transfers_count=None from_station='Jílové u Prahy,Rozc.Radlík' to_station='Smíchovské nádraží' gps_stop_distance=0.003328209278274502\n",
      "time_minutes=None transfers_count=None from_station='Jílové u Prahy,Pražská' to_station='Smíchovské nádraží' gps_stop_distance=0.004620088003491243\n",
      "time_minutes=None transfers_count=None from_station='Hradištko,Pikovice,Pod Medníkem (PZ)' to_station='Smíchovské nádraží' gps_stop_distance=0.002585620768787776\n",
      "time_minutes=None transfers_count=None from_station='Libeř' to_station='Smíchovské nádraží' gps_stop_distance=0.0007784254941895373\n",
      "time_minutes=None transfers_count=None from_station='Okrouhlo' to_station='Smíchovské nádraží' gps_stop_distance=0.0014850966298530879\n",
      "time_minutes=None transfers_count=None from_station='Jílové u Prahy,Rozc.Radlík' to_station='Smíchovské nádraží' gps_stop_distance=0.0012881867100693852\n"
     ]
    }
   ],
   "source": [
    "from baraky.models import EstateOverview\n",
    "import baraky.estate_features as ef\n",
    "\n",
    "pid_feature_enh = ef.PIDCommuteFeatureEnhancer()\n",
    "\n",
    "real_gps = [\n",
    "    (49.903309, 14.410297),\n",
    "    (49.903309, 14.410297),\n",
    "    (49.914238, 14.357649),\n",
    "    (49.910946, 14.496061),\n",
    "    (49.900032, 14.489473),\n",
    "    (49.875664, 14.431228),\n",
    "    (49.924156, 14.480618),\n",
    "    (49.917774, 14.446566),\n",
    "    (49.913334, 14.499967),\n",
    "]\n",
    "\n",
    "for q in real_gps:\n",
    "    e = EstateOverview(link=\"\",price=0,id = str(q),gps=q)\n",
    "    pd_feature = await pid_feature_enh.calculate(e)\n",
    "    print(pd_feature)"
   ]
  },
  {
   "cell_type": "code",
   "execution_count": null,
   "id": "d1d67d41-08e4-44a5-a0aa-3c2413a42189",
   "metadata": {},
   "outputs": [],
   "source": []
  }
 ],
 "metadata": {
  "kernelspec": {
   "display_name": "baraky",
   "language": "python",
   "name": "baraky"
  },
  "language_info": {
   "codemirror_mode": {
    "name": "ipython",
    "version": 3
   },
   "file_extension": ".py",
   "mimetype": "text/x-python",
   "name": "python",
   "nbconvert_exporter": "python",
   "pygments_lexer": "ipython3",
   "version": "3.12.4"
  }
 },
 "nbformat": 4,
 "nbformat_minor": 5
}
